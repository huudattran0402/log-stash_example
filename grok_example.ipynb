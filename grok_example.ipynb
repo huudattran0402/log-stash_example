{
 "cells": [
  {
   "cell_type": "code",
   "execution_count": 23,
   "metadata": {},
   "outputs": [
    {
     "data": {
      "text/html": [
       "<div>\n",
       "<style scoped>\n",
       "    .dataframe tbody tr th:only-of-type {\n",
       "        vertical-align: middle;\n",
       "    }\n",
       "\n",
       "    .dataframe tbody tr th {\n",
       "        vertical-align: top;\n",
       "    }\n",
       "\n",
       "    .dataframe thead th {\n",
       "        text-align: right;\n",
       "    }\n",
       "</style>\n",
       "<table border=\"1\" class=\"dataframe\">\n",
       "  <thead>\n",
       "    <tr style=\"text-align: right;\">\n",
       "      <th></th>\n",
       "      <th>time</th>\n",
       "      <th>logLevel</th>\n",
       "      <th>logMessage</th>\n",
       "    </tr>\n",
       "  </thead>\n",
       "  <tbody>\n",
       "    <tr>\n",
       "      <th>0</th>\n",
       "      <td>2020-10-11T09:49:35Z</td>\n",
       "      <td>INFO</td>\n",
       "      <td>variable server value is tomcat</td>\n",
       "    </tr>\n",
       "    <tr>\n",
       "      <th>1</th>\n",
       "      <td>2020-03-14T22:50:34Z</td>\n",
       "      <td>ERROR</td>\n",
       "      <td>cannot find the requested resource</td>\n",
       "    </tr>\n",
       "    <tr>\n",
       "      <th>2</th>\n",
       "      <td>2020-01-02T14:58:40Z</td>\n",
       "      <td>INFO</td>\n",
       "      <td>initializing the bootup</td>\n",
       "    </tr>\n",
       "    <tr>\n",
       "      <th>3</th>\n",
       "      <td>2020-06-04T06:56:04Z</td>\n",
       "      <td>DEBUG</td>\n",
       "      <td>initializing checksum</td>\n",
       "    </tr>\n",
       "    <tr>\n",
       "      <th>4</th>\n",
       "      <td>2020-05-07T03:07:11Z</td>\n",
       "      <td>INFO</td>\n",
       "      <td>variable server value is tomcat</td>\n",
       "    </tr>\n",
       "  </tbody>\n",
       "</table>\n",
       "</div>"
      ],
      "text/plain": [
       "                   time logLevel                          logMessage\n",
       "0  2020-10-11T09:49:35Z     INFO     variable server value is tomcat\n",
       "1  2020-03-14T22:50:34Z    ERROR  cannot find the requested resource\n",
       "2  2020-01-02T14:58:40Z     INFO             initializing the bootup\n",
       "3  2020-06-04T06:56:04Z    DEBUG               initializing checksum\n",
       "4  2020-05-07T03:07:11Z     INFO     variable server value is tomcat"
      ]
     },
     "execution_count": 23,
     "metadata": {},
     "output_type": "execute_result"
    }
   ],
   "source": [
    "from pygrok import Grok\n",
    "import pandas as pd\n",
    "import json\n",
    "\n",
    "log_df = pd.DataFrame(columns=['Time','Level','Message'])\n",
    "\n",
    "with open('sample.log', 'r') as file:\n",
    "    logs = file.readlines()\n",
    "pattern = '%{TIMESTAMP_ISO8601:time} %{LOGLEVEL:logLevel} %{GREEDYDATA:logMessage}'\n",
    "grok = Grok(pattern)\n",
    "\n",
    "log_array =  []\n",
    "for log in logs:\n",
    "    log_array.append(grok.match(log))\n",
    "\n",
    "pd.DataFrame(log_array)"
   ]
  },
  {
   "cell_type": "code",
   "execution_count": null,
   "metadata": {},
   "outputs": [],
   "source": []
  }
 ],
 "metadata": {
  "interpreter": {
   "hash": "9bf2ca0f4a7adc3ce2f237ca763c1538d3ef289a4e7face3612a01cdae9f6807"
  },
  "kernelspec": {
   "display_name": "Python 3.10.2 64-bit",
   "language": "python",
   "name": "python3"
  },
  "language_info": {
   "codemirror_mode": {
    "name": "ipython",
    "version": 3
   },
   "file_extension": ".py",
   "mimetype": "text/x-python",
   "name": "python",
   "nbconvert_exporter": "python",
   "pygments_lexer": "ipython3",
   "version": "3.10.2"
  },
  "orig_nbformat": 4
 },
 "nbformat": 4,
 "nbformat_minor": 2
}
